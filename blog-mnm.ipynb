{
 "cells": [
  {
   "cell_type": "markdown",
   "id": "033ffb70-6da5-4b02-aa73-48fc8d53841b",
   "metadata": {
    "tags": []
   },
   "source": [
    "# Dog.. pig.. dog.. pig.. loaf of bread?!?\n",
    "\n",
    "I started playing with image recognition models recently and it started off very well.  The models I trained were able to easily (and confidently!) identify common pets or objects.  But what about something harder?  I wanted to see it break down so I could see what more training iterations or a large data set would do.  How can I do that easily?\n",
    "\n",
    "It struck me.  I call it a moment of inspiration.  You might call it lunacy.  Either way, I was amused with the though.\n",
    "\n",
    "Have you see the movie \"The Mitchells vs The Machines\"?  The dog Monchi is a pug and for whatever reason causes the dumber robots to explode because they can't figure out if he's a pig, dog, or loaf of bread.  Would this really confuse an AI?\n",
    "\n",
    "In this blog I will walk through:\n",
    "* The creation of a Red Hat OpenShift on AWS (ROSA) with Hosted Control Planes (HCP) cluster.\n",
    "* Installation of Red Hat OpenShift Data Science.\n",
    "* Creation of a Data Science Project and Workspace.\n",
    "* Walking through the steps to download image data, train a model, and test if it works.\n",
    "* And if it doesn't go well for the machines... change things to see if we can get a better result.\n",
    "\n",
    "The notebook in this blog is based on the excellent [Practical Deep Learning for Coders](https://course.fast.ai/).\n",
    "\n",
    "Let's get started!"
   ]
  },
  {
   "cell_type": "markdown",
   "id": "a0994360-db58-4931-ad06-2e7df60045e6",
   "metadata": {},
   "source": [
    "## Create a ROSA HCP Cluster\n",
    "\n",
    "Follow the documentation on creating a [ROSA with HCP](https://docs.openshift.com/rosa/rosa_hcp/rosa-hcp-sts-creating-a-cluster-quickly.html) cluster.  It is a premier OpenShift cluster supported by Red Hat SRE and is reasonably priced.  \n",
    "\n",
    "Provision with three (3) `m5.xlarge` workers to make sure the workspace can be deployed successfully.\n"
   ]
  },
  {
   "cell_type": "markdown",
   "id": "949177ea-83e8-412c-a92e-179344dcfed0",
   "metadata": {},
   "source": [
    "### Optional: GPU Instance\n",
    "If you wish to use a GPU, which makes training models much faster, you can:\n",
    "1. change the instance type for the default workers to `t3.xlarge`\n",
    "1. reduce worker replicas at creation time to two (2)\n",
    "1. install one (1) `g5.xlarge` day-2 with:\n",
    "```bash\n",
    "rosa create machinepool --cluster=$CLUSTER_NAME --name=gpu --replicas=1 --instance-type=g5.xlarge\n",
    "```\n",
    "\n",
    "When setting up the data science workspace you can select \"CUDA\"!"
   ]
  },
  {
   "cell_type": "markdown",
   "id": "b3cd966d-dd88-44a0-a766-f2484aeae4ba",
   "metadata": {},
   "source": [
    "## Install OpenShift AI\n",
    "TODO\n",
    "Looking at a [trial](https://www.redhat.com/en/technologies/cloud-computing/openshift/openshift-ai/trial) setup."
   ]
  },
  {
   "cell_type": "markdown",
   "id": "435ea27b-af3d-4227-9e0c-8c0266b8119e",
   "metadata": {
    "tags": []
   },
   "source": [
    "## Access Cluster\n",
    "Simplest way is to [create an admin user](https://docs.openshift.com/rosa/cloud_experts_tutorials/cloud-experts-getting-started/cloud-experts-getting-started-admin.html).\n",
    "\n",
    "```bash\n",
    "rosa create admin --cluster=$CLUSTER_NAME\n",
    "```\n",
    "\n",
    "The output of the above command includes the `oc login` statment you can use to login.  This has the username and password you'll need later."
   ]
  },
  {
   "cell_type": "code",
   "execution_count": null,
   "id": "abb0f3b8-4d80-4092-9ba1-65085d2e7aa8",
   "metadata": {
    "tags": []
   },
   "outputs": [],
   "source": [
    "#hidden\n",
    "import socket,warnings\n",
    "try:\n",
    "    socket.setdefaulttimeout(1)\n",
    "    socket.socket(socket.AF_INET, socket.SOCK_STREAM).connect(('1.1.1.1', 53))\n",
    "except socket.error as ex: raise Exception(\"STOP: No internet. Click '>|' in top right and set 'Internet' switch to on\")"
   ]
  },
  {
   "cell_type": "code",
   "execution_count": null,
   "id": "21d59371-6fef-48e0-8c77-e0b5c468bbc7",
   "metadata": {},
   "outputs": [],
   "source": [
    "# the warnings in the libraries used can get old, do not show them\n",
    "import warnings\n",
    "warnings.filterwarnings('ignore')"
   ]
  },
  {
   "cell_type": "code",
   "execution_count": null,
   "id": "f72b41bc-808a-4831-a368-4cc7ff1c9a61",
   "metadata": {
    "tags": []
   },
   "outputs": [],
   "source": [
    "!pip install -Uqq fastai duckduckgo_search"
   ]
  },
  {
   "cell_type": "code",
   "execution_count": null,
   "id": "624794fd-58df-46b8-806f-69a677bcf44a",
   "metadata": {
    "tags": []
   },
   "outputs": [],
   "source": [
    "from duckduckgo_search import ddg_images\n",
    "from duckduckgo_search import DDGS\n",
    "from fastcore.all import *\n",
    "\n",
    "def search_images(term, max_images=30):\n",
    "    print(f\"Searching for '{term}'\")\n",
    "    return L(DDGS().images(term, max_results=max_images)).itemgot('image')    "
   ]
  },
  {
   "cell_type": "code",
   "execution_count": null,
   "id": "ebf84647-69df-48ff-8e6b-99c570d5e3a5",
   "metadata": {
    "tags": []
   },
   "outputs": [],
   "source": [
    "from fastdownload import download_url\n",
    "from fastai.vision.all import *\n",
    "\n",
    "def download_validation_image(term):\n",
    "    urls = search_images(f\"{term} photos\", max_images=1)\n",
    "\n",
    "    dest = f\"validation_data/{term}.jpg\"\n",
    "    download_url(urls[0], dest, show_progress=False)\n",
    "\n",
    "    im = Image.open(dest)\n",
    "    display(im.to_thumb(256,256))"
   ]
  },
  {
   "cell_type": "markdown",
   "id": "bb86b280-cfe3-4229-9e0d-0c6271b082ec",
   "metadata": {},
   "source": [
    "Make it easier to swap out the model and see how things change by defining a variable to capture the model."
   ]
  },
  {
   "cell_type": "code",
   "execution_count": null,
   "id": "5fba0895-e872-47b5-96fc-1a7d6de21fb2",
   "metadata": {
    "tags": []
   },
   "outputs": [],
   "source": [
    "model=resnet34"
   ]
  },
  {
   "cell_type": "markdown",
   "id": "0320be00-4c51-4e9c-8a1a-ca4c3cfca1f9",
   "metadata": {},
   "source": [
    "Delete any prior training data, since we'll be adjusting size of the data set over time."
   ]
  },
  {
   "cell_type": "code",
   "execution_count": null,
   "id": "793aeeb8-a868-47d2-8d18-e97331d1bcb3",
   "metadata": {
    "tags": []
   },
   "outputs": [],
   "source": [
    "import shutil\n",
    "\n",
    "# start with a clean (empty) set of data\n",
    "shutil.rmtree('training_data', ignore_errors=True)\n",
    "shutil.rmtree('validation_data', ignore_errors=True)"
   ]
  },
  {
   "cell_type": "markdown",
   "id": "f89f9fa9-3dd1-435a-a985-e0098983a384",
   "metadata": {},
   "source": [
    "Initialize a dictionary to capture the data.\n",
    "\n",
    "We'll be doing a few iterations and this supports a simple tabular summary at the end.  And simplifies validation."
   ]
  },
  {
   "cell_type": "code",
   "execution_count": null,
   "id": "b98339d3-9e2c-44fa-9f8e-306c462e2bd6",
   "metadata": {
    "tags": []
   },
   "outputs": [],
   "source": [
    "results = {\n",
    "    \"pug face\": {},\n",
    "    \"cute pug face\": {},\n",
    "    \"pug full body adult on tree\": {},\n",
    "    \"pig\": {},\n",
    "    \"bread\": {},\n",
    "}"
   ]
  },
  {
   "cell_type": "markdown",
   "id": "47cec3b0-abbe-4788-a777-5e4fb79b281a",
   "metadata": {},
   "source": [
    "Load a validation image for each of our samples."
   ]
  },
  {
   "cell_type": "code",
   "execution_count": null,
   "id": "0c6055f2-9a9f-4421-8d43-29bb949d3508",
   "metadata": {
    "tags": []
   },
   "outputs": [],
   "source": [
    "for term in results.keys():\n",
    "    download_validation_image(term)"
   ]
  },
  {
   "cell_type": "markdown",
   "id": "2dc5d2f4-4a1c-4537-aa60-c59a24b56136",
   "metadata": {},
   "source": [
    "Load initial training data.  Use a small data set."
   ]
  },
  {
   "cell_type": "code",
   "execution_count": null,
   "id": "a3e6b42b-abfd-4b4e-80fc-ebf1bc76023f",
   "metadata": {
    "tags": []
   },
   "outputs": [],
   "source": [
    "searches = ['dog','pig','loaf of bread']\n",
    "path = Path('training_data')\n",
    "from time import sleep\n",
    "\n",
    "max_images=5\n",
    "\n",
    "for o in searches:\n",
    "    dest = (path/o)\n",
    "    dest.mkdir(exist_ok=True, parents=True)\n",
    "    download_images(dest, urls=search_images(f'\"{o}\" photo', max_images))\n",
    "    sleep(10)  # Pause between searches to avoid over-loading server\n",
    "    download_images(dest, urls=search_images(f'\"{o} in sun\" photo', max_images))\n",
    "    sleep(10)\n",
    "    download_images(dest, urls=search_images(f'\"{o} in shade\" photo', max_images))\n",
    "    sleep(10)\n",
    "    resize_images(path/o, max_size=400, dest=path/o)"
   ]
  },
  {
   "cell_type": "markdown",
   "id": "7db25b37-1086-4f80-bbf9-f1da8170b445",
   "metadata": {},
   "source": [
    "Remove any invalid images."
   ]
  },
  {
   "cell_type": "code",
   "execution_count": null,
   "id": "013728f8-7494-4587-bfe1-8c7a055e1e0a",
   "metadata": {
    "tags": []
   },
   "outputs": [],
   "source": [
    "failed = verify_images(get_image_files(path))\n",
    "failed.map(Path.unlink)\n",
    "len(failed)"
   ]
  },
  {
   "cell_type": "markdown",
   "id": "1eb52c5f-fc31-4923-9747-2c39ca9887f5",
   "metadata": {},
   "source": [
    "Build a data block for training with 20% of the data used for validation."
   ]
  },
  {
   "cell_type": "code",
   "execution_count": null,
   "id": "02b9dded-1c3a-4f63-b3c4-30c523517a7d",
   "metadata": {
    "tags": []
   },
   "outputs": [],
   "source": [
    "dls = DataBlock(\n",
    "    blocks=(ImageBlock, CategoryBlock), \n",
    "    get_items=get_image_files, \n",
    "    splitter=RandomSplitter(valid_pct=0.2, seed=42),\n",
    "    get_y=parent_label,\n",
    "    item_tfms=[Resize(192, method='squish')]\n",
    ").dataloaders(path, bs=32)\n",
    "\n",
    "dls.show_batch(max_n=6)"
   ]
  },
  {
   "cell_type": "code",
   "execution_count": null,
   "id": "5fac630e-872c-4161-9a57-a5f54922ba10",
   "metadata": {
    "tags": []
   },
   "outputs": [],
   "source": [
    "learn = vision_learner(dls, model, metrics=accuracy)\n",
    "learn.fine_tune(3)"
   ]
  },
  {
   "cell_type": "code",
   "execution_count": null,
   "id": "96759a40-e749-4450-a163-449114600d73",
   "metadata": {
    "tags": []
   },
   "outputs": [],
   "source": [
    "def check_category(test_name):\n",
    "    for term in results.keys():\n",
    "        # get the prediction\n",
    "        dest=f\"validation_data/{term}.jpg\"\n",
    "        category,category_num,probs = learn.predict(PILImage.create(dest))\n",
    "        # show prediction\n",
    "        print(f\"This is a: {category}\")\n",
    "        print(f\"Probability it's a {category}: {probs[category_num]:.4f}\")\n",
    "        # show image\n",
    "        im = Image.open(dest)\n",
    "        display(im.to_thumb(256,256))\n",
    "        # save data for later\n",
    "        if test_name not in results[term]:\n",
    "            results[term][test_name] = {\n",
    "                \"category\": \"\",\n",
    "                \"probability\": \"\",\n",
    "            }\n",
    "        results[term][test_name]['category'] = category\n",
    "        results[term][test_name]['probability'] = f\"{probs[category_num]:.4f}\""
   ]
  },
  {
   "cell_type": "code",
   "execution_count": null,
   "id": "c5910969-f459-4a5b-ae95-34de6d0e212f",
   "metadata": {
    "tags": []
   },
   "outputs": [],
   "source": [
    "check_category(\"images=5,epochs=3\")"
   ]
  },
  {
   "cell_type": "markdown",
   "id": "75f5c6d4-6230-467c-9eb1-d207774b6f20",
   "metadata": {},
   "source": [
    "How well did your model predict the right answer?\n",
    "\n",
    "What happens if we add more images or train for more iterations?"
   ]
  },
  {
   "cell_type": "markdown",
   "id": "13cb667b-91cc-48d6-ab59-3964e87585ac",
   "metadata": {},
   "source": [
    "# Revision: train more!"
   ]
  },
  {
   "cell_type": "code",
   "execution_count": null,
   "id": "307cf735-59f2-47f1-9ea3-797617529409",
   "metadata": {
    "tags": []
   },
   "outputs": [],
   "source": [
    "learn = vision_learner(dls, model, metrics=error_rate)\n",
    "learn.fine_tune(10)"
   ]
  },
  {
   "cell_type": "code",
   "execution_count": null,
   "id": "873b34dd-e17f-4030-88c8-b0a7592e7bc5",
   "metadata": {
    "tags": []
   },
   "outputs": [],
   "source": [
    "check_category(\"images=5,epochs=10\")"
   ]
  },
  {
   "cell_type": "markdown",
   "id": "5151a6c6-7798-43bd-a6d4-20a63cc74fd9",
   "metadata": {},
   "source": [
    "What if we also bump up the amount of data?"
   ]
  },
  {
   "cell_type": "markdown",
   "id": "bf109d5c-0731-4a47-aadf-228be6a8b883",
   "metadata": {},
   "source": [
    "# Revision: more data!!\n",
    "\n",
    "Bump the set of data we collect up from 5 per bucket to 30.  Train the model with even more epochs.  Validate"
   ]
  },
  {
   "cell_type": "code",
   "execution_count": null,
   "id": "2d18c998-1ff6-4aaf-b902-acebc585e268",
   "metadata": {
    "tags": []
   },
   "outputs": [],
   "source": [
    "# only more data for dog, pig, and loaf of bread\n",
    "searches = ['dog','pig','loaf of bread']\n",
    "\n",
    "max_images = 30\n",
    "\n",
    "for o in searches:\n",
    "    dest = (path/o)\n",
    "    dest.mkdir(exist_ok=True, parents=True)\n",
    "    download_images(dest, urls=search_images(f'\"{o}\" photo', max_images))\n",
    "    sleep(10)  # Pause between searches to avoid over-loading server\n",
    "    download_images(dest, urls=search_images(f'\"{o} in sun\" photo', max_images))\n",
    "    sleep(10)\n",
    "    download_images(dest, urls=search_images(f'\"{o} in shade\" photo', max_images))\n",
    "    sleep(10)\n",
    "    resize_images(path/o, max_size=400, dest=path/o)"
   ]
  },
  {
   "cell_type": "code",
   "execution_count": null,
   "id": "7c84b29d-c686-4de4-aafa-6fe8ed18682e",
   "metadata": {
    "tags": []
   },
   "outputs": [],
   "source": [
    "failed = verify_images(get_image_files(path))\n",
    "failed.map(Path.unlink)\n",
    "len(failed)"
   ]
  },
  {
   "cell_type": "code",
   "execution_count": null,
   "id": "06091baa-aeb8-4511-8deb-5f37596cec55",
   "metadata": {
    "tags": []
   },
   "outputs": [],
   "source": [
    "dls = DataBlock(\n",
    "    blocks=(ImageBlock, CategoryBlock), \n",
    "    get_items=get_image_files, \n",
    "    splitter=RandomSplitter(valid_pct=0.2, seed=42),\n",
    "    get_y=parent_label,\n",
    "    item_tfms=[Resize(192, method='squish')]\n",
    ").dataloaders(path, bs=32)\n",
    "\n",
    "dls.show_batch(max_n=6)"
   ]
  },
  {
   "cell_type": "code",
   "execution_count": null,
   "id": "ce8fb36f-e44c-489f-b532-c78b8a13e365",
   "metadata": {
    "tags": []
   },
   "outputs": [],
   "source": [
    "learn = vision_learner(dls, model, metrics=accuracy)\n",
    "learn.fine_tune(10)"
   ]
  },
  {
   "cell_type": "code",
   "execution_count": null,
   "id": "80cd268b-8d92-4b15-bf6c-c0d75eb8c716",
   "metadata": {
    "tags": []
   },
   "outputs": [],
   "source": [
    "check_category(\"images=30,epochs=10\")"
   ]
  },
  {
   "cell_type": "markdown",
   "id": "8fc8a680-77dc-49e5-88a5-35399f1922d9",
   "metadata": {},
   "source": [
    "Was the prediction any better?"
   ]
  },
  {
   "cell_type": "code",
   "execution_count": null,
   "id": "a54f7543-be02-4970-a6ff-e9ac925a53d6",
   "metadata": {
    "tags": []
   },
   "outputs": [],
   "source": [
    "import pandas as pd\n",
    "col=[] # use list so we keep order\n",
    "data = {}\n",
    "for term in results.keys():\n",
    "    if term not in data:\n",
    "        data[term] = []\n",
    "    for test in results[term]:\n",
    "        if test not in col:\n",
    "            col.append(test)\n",
    "        data[term].append(f\"{results[term][test]['category']} ({float(results[term][test]['probability'])*100:.0f}%)\")\n",
    "pd.DataFrame(data.values(), index=data.keys(), columns=list(col))"
   ]
  },
  {
   "cell_type": "markdown",
   "id": "c7e1838a-a777-44cd-9842-4f645c752bb6",
   "metadata": {},
   "source": [
    "Results may vary depending on the training.  I saw cases where pugs images were classified as pigs or bread.\n",
    "\n",
    "The point of this exercies isn't to get a correct result, but to play around with some vison learning models, modifying some parameters and seeing how the results change.  The fact that training the model on a larger data set for a longer period of time (in my example) resulted in a worse prediction is just the icing on the cake.\n",
    "\n",
    "I hope you learned something and had a fun time.  If you're results are different, amusing, or you tried something else and got an interesting result please let me know."
   ]
  },
  {
   "cell_type": "code",
   "execution_count": null,
   "id": "82a90695-97c0-40b4-a3ea-ab3c7f5f597e",
   "metadata": {
    "tags": []
   },
   "outputs": [],
   "source": [
    "results"
   ]
  }
 ],
 "metadata": {
  "kernelspec": {
   "display_name": "Python 3.9",
   "language": "python",
   "name": "python3"
  },
  "language_info": {
   "codemirror_mode": {
    "name": "ipython",
    "version": 3
   },
   "file_extension": ".py",
   "mimetype": "text/x-python",
   "name": "python",
   "nbconvert_exporter": "python",
   "pygments_lexer": "ipython3",
   "version": "3.9.18"
  }
 },
 "nbformat": 4,
 "nbformat_minor": 5
}
