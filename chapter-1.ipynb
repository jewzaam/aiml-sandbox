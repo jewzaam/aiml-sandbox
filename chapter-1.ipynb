{
 "cells": [
  {
   "cell_type": "markdown",
   "id": "033ffb70-6da5-4b02-aa73-48fc8d53841b",
   "metadata": {
    "tags": []
   },
   "source": [
    "# Chapter 1\n",
    "- Video lession: [video](https://www.youtube.com/watch?v=8SF_h3xF3cE), [notebook](https://www.kaggle.com/code/jhoward/is-it-a-bird-creating-a-model-from-your-own-data)\n",
    "- Text lession: [book](https://github.com/fastai/fastbook/blob/master/01_intro.ipynb)"
   ]
  },
  {
   "cell_type": "markdown",
   "id": "c09d08d1-1629-44b9-b979-1af8e141c2fa",
   "metadata": {},
   "source": [
    "Thoughts:\n",
    "* Create image recognition for multiple animals (cat, dog, mouse, hamster) and see how it goes.\n",
    "\n",
    "Much of what follows is based on the [notebook](https://www.kaggle.com/code/jhoward/is-it-a-bird-creating-a-model-from-your-own-data) used for the chapter 1 youtube video.  Streamlined and modified for the things I want to play with.  And to update code to remote warnings sometimes..."
   ]
  },
  {
   "cell_type": "code",
   "execution_count": 3,
   "id": "abb0f3b8-4d80-4092-9ba1-65085d2e7aa8",
   "metadata": {
    "tags": []
   },
   "outputs": [],
   "source": [
    "import socket,warnings\n",
    "try:\n",
    "    socket.setdefaulttimeout(1)\n",
    "    socket.socket(socket.AF_INET, socket.SOCK_STREAM).connect(('1.1.1.1', 53))\n",
    "except socket.error as ex: raise Exception(\"STOP: No internet. Click '>|' in top right and set 'Internet' switch to on\")\n"
   ]
  },
  {
   "cell_type": "code",
   "execution_count": 6,
   "id": "f72b41bc-808a-4831-a368-4cc7ff1c9a61",
   "metadata": {
    "tags": []
   },
   "outputs": [],
   "source": [
    "!pip install -Uqq fastai duckduckgo_search"
   ]
  },
  {
   "cell_type": "code",
   "execution_count": 10,
   "id": "624794fd-58df-46b8-806f-69a677bcf44a",
   "metadata": {
    "tags": []
   },
   "outputs": [],
   "source": [
    "from duckduckgo_search import ddg_images\n",
    "from duckduckgo_search import DDGS\n",
    "from fastcore.all import *\n",
    "\n",
    "def search_images(term, max_images=30):\n",
    "    print(f\"Searching for '{term}'\")\n",
    "    return L(DDGS().images(term, max_results=max_images)).itemgot('image')"
   ]
  },
  {
   "cell_type": "code",
   "execution_count": 11,
   "id": "ebf84647-69df-48ff-8e6b-99c570d5e3a5",
   "metadata": {
    "tags": []
   },
   "outputs": [
    {
     "name": "stdout",
     "output_type": "stream",
     "text": [
      "Searching for 'bird photos'\n"
     ]
    },
    {
     "data": {
      "text/plain": [
       "'https://images.pexels.com/photos/1661179/pexels-photo-1661179.jpeg?cs=srgb&dl=green-bird-1661179.jpg&fm=jpg'"
      ]
     },
     "execution_count": 11,
     "metadata": {},
     "output_type": "execute_result"
    }
   ],
   "source": [
    "urls = search_images('bird photos', max_images=1)\n",
    "urls[0]"
   ]
  },
  {
   "cell_type": "code",
   "execution_count": null,
   "id": "d9abe34e-0046-46ff-9a67-ce02a7127136",
   "metadata": {},
   "outputs": [],
   "source": []
  }
 ],
 "metadata": {
  "kernelspec": {
   "display_name": "Python 3.9",
   "language": "python",
   "name": "python3"
  },
  "language_info": {
   "codemirror_mode": {
    "name": "ipython",
    "version": 3
   },
   "file_extension": ".py",
   "mimetype": "text/x-python",
   "name": "python",
   "nbconvert_exporter": "python",
   "pygments_lexer": "ipython3",
   "version": "3.9.16"
  }
 },
 "nbformat": 4,
 "nbformat_minor": 5
}
