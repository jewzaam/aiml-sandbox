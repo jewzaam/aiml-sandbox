{
 "cells": [
  {
   "cell_type": "code",
   "execution_count": 1,
   "id": "c8999383-c66d-4abf-9676-2c7ff0a74a63",
   "metadata": {},
   "outputs": [],
   "source": [
    "# the warnings in the libraries used can get old, do not show them\n",
    "import warnings\n",
    "warnings.filterwarnings('ignore')"
   ]
  },
  {
   "cell_type": "code",
   "execution_count": 2,
   "id": "4cb23d4c-cad3-4e46-bcf8-79162345bbd7",
   "metadata": {},
   "outputs": [],
   "source": [
    "from langchain_community.embeddings import HuggingFaceEmbeddings\n",
    "\n",
    "model_name = \"sentence-transformers/all-mpnet-base-v2\"\n",
    "model_kwargs = {'device': 'cpu'}\n",
    "encode_kwargs = {'normalize_embeddings': False}\n",
    "hf = HuggingFaceEmbeddings(\n",
    "    model_name=model_name,\n",
    "    model_kwargs=model_kwargs,\n",
    "    encode_kwargs=encode_kwargs\n",
    ")"
   ]
  },
  {
   "cell_type": "code",
   "execution_count": 3,
   "id": "03944aac-fadf-4702-ad50-6c6dc0ef3d37",
   "metadata": {},
   "outputs": [],
   "source": [
    "from langchain import PromptTemplate, LLMChain\n",
    "from langchain.llms import HuggingFacePipeline\n",
    "llm = HuggingFacePipeline.from_model_id(model_id=\"flan-t5-large\", task=\"text2text-generation\", model_kwargs={\"temperature\":1e-10})"
   ]
  },
  {
   "cell_type": "code",
   "execution_count": 4,
   "id": "e1ce6721-6504-4194-92e7-1a9255b634ef",
   "metadata": {},
   "outputs": [],
   "source": [
    "from langchain_community.vectorstores import FAISS\n",
    "\n",
    "vectorestore = FAISS.load_local(\"ocp-llm-rag-vectorstore\", hf)"
   ]
  },
  {
   "cell_type": "code",
   "execution_count": 5,
   "id": "7c52fd8b-3c89-4eee-bb4e-1ec460aeaa4b",
   "metadata": {},
   "outputs": [],
   "source": [
    "#from langchain.document_loaders import TextLoader\n",
    "#from langchain.vectorstores import Chroma\n",
    "from langchain.chains import RetrievalQA\n",
    "#from langchain.llms.base import LLM\n",
    "#from typing import Optional, List, Mapping, Any\n",
    "from langchain import PromptTemplate, LLMChain\n",
    "#from langchain.embeddings import HuggingFaceInstructEmbeddings \n",
    "#from langchain.agents import initialize_agent, Tool\n",
    "\n",
    "template = \"Cite one of the following pieces of context as an answer to the question at the end. If you don't know the answer, just say that you don't know, don't try to make up an answer.\\n\\n{context}Question: {question}\\n\\nAnswer:\"\n",
    "template = PromptTemplate(template=template, input_variables=[\"context\", \"question\"])  \n",
    "docsearcher = RetrievalQA.from_chain_type(\n",
    "    llm=llm, \n",
    "    chain_type=\"stuff\", #stuff, map_reduce, refine, map_rerank\n",
    "    chain_type_kwargs={\"prompt\": template},\n",
    "    return_source_documents=True,\n",
    "    retriever=vectorestore.as_retriever(search_type=\"similarity\",search_kwargs={\"k\":1})) # similarity, mmr"
   ]
  },
  {
   "cell_type": "code",
   "execution_count": 6,
   "id": "6a0a6e65-42e7-409a-a83c-5c4189d97f08",
   "metadata": {},
   "outputs": [],
   "source": [
    "def answer_question(question):\n",
    "    # {query,result,source_documents{page_content,metadata{source,page}}}\n",
    "    answer = docsearcher.invoke({\"query\": question})\n",
    "    return {\n",
    "        \"query\": answer['query'],\n",
    "        \"result\": answer['result'],\n",
    "        \"metadata\": answer['source_documents'][0].metadata,\n",
    "        \"page_content\": answer['source_documents'][0].page_content,\n",
    "    }"
   ]
  },
  {
   "cell_type": "code",
   "execution_count": 7,
   "id": "a9a70db4-d91b-48a5-a027-d3f0825b36f9",
   "metadata": {},
   "outputs": [
    {
     "name": "stderr",
     "output_type": "stream",
     "text": [
      "Token indices sequence length is longer than the specified maximum sequence length for this model (809 > 512). Running this sequence through the model will result in indexing errors\n"
     ]
    },
    {
     "data": {
      "text/plain": [
       "{'query': 'what is openshift platform?',\n",
       " 'result': 'OpenShift Container Platform is a cloud-based Kubernetes container platform',\n",
       " 'metadata': {'source': 'https://access.redhat.com/documentation/en-us/openshift_container_platform/4.14/html-single/architecture'},\n",
       " 'page_content': 'Red Hat OpenShift Documentation Team\\n\\nLegal Notice\\n\\nAbstract\\n\\nThis document provides an overview of the platform and application architecture in OpenShift Container Platform.\\n\\nChapter\\xa01.\\xa0Architecture overview\\n\\nOpenShift Container Platform is a cloud-based Kubernetes container platform. The foundation of OpenShift Container Platform is based on Kubernetes and therefore shares the same technology. To learn more about OpenShift Container Platform and Kubernetes, see product architecture.\\n\\n1.1.\\xa0Glossary of common terms for OpenShift Container Platform architecture\\n\\nThis glossary defines common terms that are used in the architecture content.\\n\\naccess policies\\n\\nA set of roles that dictate how users, applications, and entities within a cluster interacts with one another. An access policy increases cluster security.\\n\\nadmission plugins\\n\\nAdmission plugins enforce security policies, resource limitations, or configuration requirements.\\n\\nauthentication\\n\\nTo control access to an OpenShift Container Platform cluster, a cluster administrator can configure user authentication and ensure only approved users access the cluster. To interact with an OpenShift Container Platform cluster, you must authenticate to the OpenShift Container Platform API. You can authenticate by providing an OAuth access token or an X.509 client certificate in your requests to the OpenShift Container Platform API.\\n\\nbootstrap\\n\\nA temporary machine that runs minimal Kubernetes and deploys the OpenShift Container Platform control plane.\\n\\ncertificate signing requests (CSRs)\\n\\nA resource requests a denoted signer to sign a certificate. This request might get approved or denied.\\n\\nCluster Version Operator (CVO)\\n\\nAn Operator that checks with the OpenShift Container Platform Update Service to see the valid updates and update paths based on current component versions and information in the graph.\\n\\ncompute nodes\\n\\nNodes that are responsible for executing workloads for cluster users. Compute nodes are also known as worker nodes.\\n\\nconfiguration drift\\n\\nA situation where the configuration on a node does not match what the machine config specifies.\\n\\ncontainers\\n\\nLightweight and executable images that consist software and all its dependencies. Because containers virtualize the operating system, you can run containers anywhere, from a data center to a public or private cloud to your local host.\\n\\ncontainer orchestration engine\\n\\nSoftware that automates the deployment, management, scaling, and networking of containers.\\n\\ncontainer workloads\\n\\nApplications that are packaged and deployed in containers.\\n\\ncontrol groups (cgroups)\\n\\nPartitions sets of processes into groups to manage and limit the resources processes consume.\\n\\ncontrol plane\\n\\nA container orchestration layer that exposes the API and interfaces to define, deploy, and manage the life cycle of containers. Control planes are also known as control plane machines.\\n\\nCRI-O\\n\\nA Kubernetes native container runtime implementation that integrates with the operating system to deliver an efficient Kubernetes experience.\\n\\ndeployment\\n\\nA Kubernetes resource object that maintains the life cycle of an application.\\n\\nDockerfile\\n\\nA text file that contains the user commands to perform on a terminal to assemble the image.\\n\\nhosted control planes\\n\\nA OpenShift Container Platform feature that enables hosting a control plane on the OpenShift Container Platform cluster from its data plane and workers. This model performs following actions:\\n\\t\\t\\t\\t\\t\\t\\n\\t\\t\\t\\t\\t\\t\\t\\t\\tOptimize infrastructure costs required for the control planes.\\n\\t\\t\\t\\t\\t\\t\\t\\t\\n\\t\\t\\t\\t\\t\\t\\t\\t\\tImprove the cluster creation time.\\n\\t\\t\\t\\t\\t\\t\\t\\t\\n\\t\\t\\t\\t\\t\\t\\t\\t\\tEnable hosting the control plane using the Kubernetes native high level primitives. For example, deployments, stateful sets.\\n\\t\\t\\t\\t\\t\\t\\t\\t\\n\\t\\t\\t\\t\\t\\t\\t\\t\\tAllow a strong network segmentation between the control plane and workloads.\\n\\nhybrid cloud deployments'}"
      ]
     },
     "execution_count": 7,
     "metadata": {},
     "output_type": "execute_result"
    }
   ],
   "source": [
    "answer_question(\"what is openshift platform?\")"
   ]
  },
  {
   "cell_type": "code",
   "execution_count": 8,
   "id": "c40aaa09-f40a-4ec8-9933-6116bc2b117d",
   "metadata": {},
   "outputs": [],
   "source": [
    "def answer_question_result(question):\n",
    "    a = answer_question(question)\n",
    "    text = a['page_content'].replace('\\n', '<br>').replace('\\t', '&#9;')\n",
    "    return f\"{a['result']} (<a href=\\\"{a['metadata']['source']}\\\" target=\\\"_blank\\\">source</a>)<br><hr>{text}\""
   ]
  },
  {
   "cell_type": "code",
   "execution_count": 9,
   "id": "92243572-e468-4f5d-8608-073ca88dbc4d",
   "metadata": {},
   "outputs": [
    {
     "data": {
      "text/plain": [
       "'OpenShift Container Platform is a cloud-based Kubernetes container platform (<a href=\"https://access.redhat.com/documentation/en-us/openshift_container_platform/4.14/html-single/architecture\" target=\"_blank\">source</a>)<br><hr>Red Hat OpenShift Documentation Team<br><br>Legal Notice<br><br>Abstract<br><br>This document provides an overview of the platform and application architecture in OpenShift Container Platform.<br><br>Chapter\\xa01.\\xa0Architecture overview<br><br>OpenShift Container Platform is a cloud-based Kubernetes container platform. The foundation of OpenShift Container Platform is based on Kubernetes and therefore shares the same technology. To learn more about OpenShift Container Platform and Kubernetes, see product architecture.<br><br>1.1.\\xa0Glossary of common terms for OpenShift Container Platform architecture<br><br>This glossary defines common terms that are used in the architecture content.<br><br>access policies<br><br>A set of roles that dictate how users, applications, and entities within a cluster interacts with one another. An access policy increases cluster security.<br><br>admission plugins<br><br>Admission plugins enforce security policies, resource limitations, or configuration requirements.<br><br>authentication<br><br>To control access to an OpenShift Container Platform cluster, a cluster administrator can configure user authentication and ensure only approved users access the cluster. To interact with an OpenShift Container Platform cluster, you must authenticate to the OpenShift Container Platform API. You can authenticate by providing an OAuth access token or an X.509 client certificate in your requests to the OpenShift Container Platform API.<br><br>bootstrap<br><br>A temporary machine that runs minimal Kubernetes and deploys the OpenShift Container Platform control plane.<br><br>certificate signing requests (CSRs)<br><br>A resource requests a denoted signer to sign a certificate. This request might get approved or denied.<br><br>Cluster Version Operator (CVO)<br><br>An Operator that checks with the OpenShift Container Platform Update Service to see the valid updates and update paths based on current component versions and information in the graph.<br><br>compute nodes<br><br>Nodes that are responsible for executing workloads for cluster users. Compute nodes are also known as worker nodes.<br><br>configuration drift<br><br>A situation where the configuration on a node does not match what the machine config specifies.<br><br>containers<br><br>Lightweight and executable images that consist software and all its dependencies. Because containers virtualize the operating system, you can run containers anywhere, from a data center to a public or private cloud to your local host.<br><br>container orchestration engine<br><br>Software that automates the deployment, management, scaling, and networking of containers.<br><br>container workloads<br><br>Applications that are packaged and deployed in containers.<br><br>control groups (cgroups)<br><br>Partitions sets of processes into groups to manage and limit the resources processes consume.<br><br>control plane<br><br>A container orchestration layer that exposes the API and interfaces to define, deploy, and manage the life cycle of containers. Control planes are also known as control plane machines.<br><br>CRI-O<br><br>A Kubernetes native container runtime implementation that integrates with the operating system to deliver an efficient Kubernetes experience.<br><br>deployment<br><br>A Kubernetes resource object that maintains the life cycle of an application.<br><br>Dockerfile<br><br>A text file that contains the user commands to perform on a terminal to assemble the image.<br><br>hosted control planes<br><br>A OpenShift Container Platform feature that enables hosting a control plane on the OpenShift Container Platform cluster from its data plane and workers. This model performs following actions:<br>&#9;&#9;&#9;&#9;&#9;&#9;<br>&#9;&#9;&#9;&#9;&#9;&#9;&#9;&#9;&#9;Optimize infrastructure costs required for the control planes.<br>&#9;&#9;&#9;&#9;&#9;&#9;&#9;&#9;<br>&#9;&#9;&#9;&#9;&#9;&#9;&#9;&#9;&#9;Improve the cluster creation time.<br>&#9;&#9;&#9;&#9;&#9;&#9;&#9;&#9;<br>&#9;&#9;&#9;&#9;&#9;&#9;&#9;&#9;&#9;Enable hosting the control plane using the Kubernetes native high level primitives. For example, deployments, stateful sets.<br>&#9;&#9;&#9;&#9;&#9;&#9;&#9;&#9;<br>&#9;&#9;&#9;&#9;&#9;&#9;&#9;&#9;&#9;Allow a strong network segmentation between the control plane and workloads.<br><br>hybrid cloud deployments'"
      ]
     },
     "execution_count": 9,
     "metadata": {},
     "output_type": "execute_result"
    }
   ],
   "source": [
    "answer_question_result(\"what is openshift platform?\")"
   ]
  },
  {
   "cell_type": "code",
   "execution_count": 10,
   "id": "d5bfdc2b-db3a-4945-83f3-4ad95568cd00",
   "metadata": {},
   "outputs": [
    {
     "name": "stdout",
     "output_type": "stream",
     "text": [
      "Running on local URL:  http://127.0.0.1:7860\n",
      "\n",
      "To create a public link, set `share=True` in `launch()`.\n"
     ]
    },
    {
     "data": {
      "text/plain": []
     },
     "execution_count": 10,
     "metadata": {},
     "output_type": "execute_result"
    }
   ],
   "source": [
    "import gradio as gr\n",
    "\n",
    "intf = gr.Interface(fn=answer_question_result, inputs=\"textbox\", outputs=\"html\")\n",
    "intf.launch(inline=False)"
   ]
  },
  {
   "cell_type": "code",
   "execution_count": null,
   "id": "ac4abffd-d270-425f-80e9-fcf98be9dbe1",
   "metadata": {},
   "outputs": [],
   "source": []
  }
 ],
 "metadata": {
  "kernelspec": {
   "display_name": "Python 3 (ipykernel)",
   "language": "python",
   "name": "python3"
  },
  "language_info": {
   "codemirror_mode": {
    "name": "ipython",
    "version": 3
   },
   "file_extension": ".py",
   "mimetype": "text/x-python",
   "name": "python",
   "nbconvert_exporter": "python",
   "pygments_lexer": "ipython3",
   "version": "3.9.18"
  }
 },
 "nbformat": 4,
 "nbformat_minor": 5
}
