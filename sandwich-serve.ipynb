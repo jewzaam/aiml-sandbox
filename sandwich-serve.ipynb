{
 "cells": [
  {
   "cell_type": "code",
   "execution_count": 1,
   "id": "a74d55c4-b20b-40e4-8c9f-386925e9ea02",
   "metadata": {},
   "outputs": [],
   "source": [
    "#|default_exp app"
   ]
  },
  {
   "cell_type": "code",
   "execution_count": 2,
   "id": "df79f45e-c713-4af2-be3a-93b2e7760715",
   "metadata": {},
   "outputs": [],
   "source": [
    "#hidden\n",
    "import socket,warnings\n",
    "try:\n",
    "    socket.setdefaulttimeout(1)\n",
    "    socket.socket(socket.AF_INET, socket.SOCK_STREAM).connect(('1.1.1.1', 53))\n",
    "except socket.error as ex: raise Exception(\"STOP: No internet. Click '>|' in top right and set 'Internet' switch to on\")"
   ]
  },
  {
   "cell_type": "code",
   "execution_count": 3,
   "id": "b44f6cea-8c8a-459d-b5a5-c84a6e5c5590",
   "metadata": {},
   "outputs": [],
   "source": [
    "# the warnings in the libraries used can get old, do not show them\n",
    "import warnings\n",
    "warnings.filterwarnings('ignore')"
   ]
  },
  {
   "cell_type": "code",
   "execution_count": 4,
   "id": "7b6218a1-72df-4b2b-84fb-ee4682fca74b",
   "metadata": {},
   "outputs": [
    {
     "name": "stdout",
     "output_type": "stream",
     "text": [
      "Requirement already satisfied: gradio==3.50 in /home/nmalik/notebooks/venv/lib/python3.9/site-packages (3.50.0)\n",
      "Requirement already satisfied: aiofiles<24.0,>=22.0 in /home/nmalik/notebooks/venv/lib/python3.9/site-packages (from gradio==3.50) (23.2.1)\n",
      "Requirement already satisfied: altair<6.0,>=4.2.0 in /home/nmalik/notebooks/venv/lib/python3.9/site-packages (from gradio==3.50) (5.2.0)\n",
      "Requirement already satisfied: fastapi in /home/nmalik/notebooks/venv/lib/python3.9/site-packages (from gradio==3.50) (0.109.0)\n",
      "Requirement already satisfied: ffmpy in /home/nmalik/notebooks/venv/lib/python3.9/site-packages (from gradio==3.50) (0.3.1)\n",
      "Requirement already satisfied: gradio-client==0.6.1 in /home/nmalik/notebooks/venv/lib/python3.9/site-packages (from gradio==3.50) (0.6.1)\n",
      "Requirement already satisfied: httpx in /home/nmalik/notebooks/venv/lib/python3.9/site-packages (from gradio==3.50) (0.26.0)\n",
      "Requirement already satisfied: huggingface-hub>=0.14.0 in /home/nmalik/notebooks/venv/lib/python3.9/site-packages (from gradio==3.50) (0.20.2)\n",
      "Requirement already satisfied: importlib-resources<7.0,>=1.3 in /home/nmalik/notebooks/venv/lib/python3.9/site-packages (from gradio==3.50) (6.1.1)\n",
      "Requirement already satisfied: jinja2<4.0 in /home/nmalik/notebooks/venv/lib/python3.9/site-packages (from gradio==3.50) (3.1.3)\n",
      "Requirement already satisfied: markupsafe~=2.0 in /home/nmalik/notebooks/venv/lib/python3.9/site-packages (from gradio==3.50) (2.1.3)\n",
      "Requirement already satisfied: matplotlib~=3.0 in /home/nmalik/notebooks/venv/lib/python3.9/site-packages (from gradio==3.50) (3.8.2)\n",
      "Requirement already satisfied: numpy~=1.0 in /home/nmalik/notebooks/venv/lib/python3.9/site-packages (from gradio==3.50) (1.26.3)\n",
      "Requirement already satisfied: orjson~=3.0 in /home/nmalik/notebooks/venv/lib/python3.9/site-packages (from gradio==3.50) (3.9.10)\n",
      "Requirement already satisfied: packaging in /home/nmalik/notebooks/venv/lib/python3.9/site-packages (from gradio==3.50) (23.2)\n",
      "Requirement already satisfied: pandas<3.0,>=1.0 in /home/nmalik/notebooks/venv/lib/python3.9/site-packages (from gradio==3.50) (2.1.4)\n",
      "Requirement already satisfied: pillow<11.0,>=8.0 in /home/nmalik/notebooks/venv/lib/python3.9/site-packages (from gradio==3.50) (10.2.0)\n",
      "Requirement already satisfied: pydantic!=1.8,!=1.8.1,!=2.0.0,!=2.0.1,<3.0.0,>=1.7.4 in /home/nmalik/notebooks/venv/lib/python3.9/site-packages (from gradio==3.50) (2.5.3)\n",
      "Requirement already satisfied: pydub in /home/nmalik/notebooks/venv/lib/python3.9/site-packages (from gradio==3.50) (0.25.1)\n",
      "Requirement already satisfied: python-multipart in /home/nmalik/notebooks/venv/lib/python3.9/site-packages (from gradio==3.50) (0.0.6)\n",
      "Requirement already satisfied: pyyaml<7.0,>=5.0 in /home/nmalik/notebooks/venv/lib/python3.9/site-packages (from gradio==3.50) (6.0.1)\n",
      "Requirement already satisfied: requests~=2.0 in /home/nmalik/notebooks/venv/lib/python3.9/site-packages (from gradio==3.50) (2.31.0)\n",
      "Requirement already satisfied: semantic-version~=2.0 in /home/nmalik/notebooks/venv/lib/python3.9/site-packages (from gradio==3.50) (2.10.0)\n",
      "Requirement already satisfied: typing-extensions~=4.0 in /home/nmalik/notebooks/venv/lib/python3.9/site-packages (from gradio==3.50) (4.9.0)\n",
      "Requirement already satisfied: uvicorn>=0.14.0 in /home/nmalik/notebooks/venv/lib/python3.9/site-packages (from gradio==3.50) (0.26.0)\n",
      "Requirement already satisfied: websockets<12.0,>=10.0 in /home/nmalik/notebooks/venv/lib/python3.9/site-packages (from gradio==3.50) (11.0.3)\n",
      "Requirement already satisfied: fsspec in /home/nmalik/notebooks/venv/lib/python3.9/site-packages (from gradio-client==0.6.1->gradio==3.50) (2023.10.0)\n",
      "Requirement already satisfied: jsonschema>=3.0 in /home/nmalik/notebooks/venv/lib/python3.9/site-packages (from altair<6.0,>=4.2.0->gradio==3.50) (4.20.0)\n",
      "Requirement already satisfied: toolz in /home/nmalik/notebooks/venv/lib/python3.9/site-packages (from altair<6.0,>=4.2.0->gradio==3.50) (0.12.0)\n",
      "Requirement already satisfied: filelock in /home/nmalik/notebooks/venv/lib/python3.9/site-packages (from huggingface-hub>=0.14.0->gradio==3.50) (3.13.1)\n",
      "Requirement already satisfied: tqdm>=4.42.1 in /home/nmalik/notebooks/venv/lib/python3.9/site-packages (from huggingface-hub>=0.14.0->gradio==3.50) (4.66.1)\n",
      "Requirement already satisfied: zipp>=3.1.0 in /home/nmalik/notebooks/venv/lib/python3.9/site-packages (from importlib-resources<7.0,>=1.3->gradio==3.50) (3.17.0)\n",
      "Requirement already satisfied: contourpy>=1.0.1 in /home/nmalik/notebooks/venv/lib/python3.9/site-packages (from matplotlib~=3.0->gradio==3.50) (1.2.0)\n",
      "Requirement already satisfied: cycler>=0.10 in /home/nmalik/notebooks/venv/lib/python3.9/site-packages (from matplotlib~=3.0->gradio==3.50) (0.12.1)\n",
      "Requirement already satisfied: fonttools>=4.22.0 in /home/nmalik/notebooks/venv/lib/python3.9/site-packages (from matplotlib~=3.0->gradio==3.50) (4.47.2)\n",
      "Requirement already satisfied: kiwisolver>=1.3.1 in /home/nmalik/notebooks/venv/lib/python3.9/site-packages (from matplotlib~=3.0->gradio==3.50) (1.4.5)\n",
      "Requirement already satisfied: pyparsing>=2.3.1 in /home/nmalik/notebooks/venv/lib/python3.9/site-packages (from matplotlib~=3.0->gradio==3.50) (3.1.1)\n",
      "Requirement already satisfied: python-dateutil>=2.7 in /home/nmalik/notebooks/venv/lib/python3.9/site-packages (from matplotlib~=3.0->gradio==3.50) (2.8.2)\n",
      "Requirement already satisfied: pytz>=2020.1 in /home/nmalik/notebooks/venv/lib/python3.9/site-packages (from pandas<3.0,>=1.0->gradio==3.50) (2023.3.post1)\n",
      "Requirement already satisfied: tzdata>=2022.1 in /home/nmalik/notebooks/venv/lib/python3.9/site-packages (from pandas<3.0,>=1.0->gradio==3.50) (2023.4)\n",
      "Requirement already satisfied: annotated-types>=0.4.0 in /home/nmalik/notebooks/venv/lib/python3.9/site-packages (from pydantic!=1.8,!=1.8.1,!=2.0.0,!=2.0.1,<3.0.0,>=1.7.4->gradio==3.50) (0.6.0)\n",
      "Requirement already satisfied: pydantic-core==2.14.6 in /home/nmalik/notebooks/venv/lib/python3.9/site-packages (from pydantic!=1.8,!=1.8.1,!=2.0.0,!=2.0.1,<3.0.0,>=1.7.4->gradio==3.50) (2.14.6)\n",
      "Requirement already satisfied: charset-normalizer<4,>=2 in /home/nmalik/notebooks/venv/lib/python3.9/site-packages (from requests~=2.0->gradio==3.50) (3.3.2)\n",
      "Requirement already satisfied: idna<4,>=2.5 in /home/nmalik/notebooks/venv/lib/python3.9/site-packages (from requests~=2.0->gradio==3.50) (3.6)\n",
      "Requirement already satisfied: urllib3<3,>=1.21.1 in /home/nmalik/notebooks/venv/lib/python3.9/site-packages (from requests~=2.0->gradio==3.50) (2.1.0)\n",
      "Requirement already satisfied: certifi>=2017.4.17 in /home/nmalik/notebooks/venv/lib/python3.9/site-packages (from requests~=2.0->gradio==3.50) (2023.11.17)\n",
      "Requirement already satisfied: click>=7.0 in /home/nmalik/notebooks/venv/lib/python3.9/site-packages (from uvicorn>=0.14.0->gradio==3.50) (8.1.7)\n",
      "Requirement already satisfied: h11>=0.8 in /home/nmalik/notebooks/venv/lib/python3.9/site-packages (from uvicorn>=0.14.0->gradio==3.50) (0.14.0)\n",
      "Requirement already satisfied: starlette<0.36.0,>=0.35.0 in /home/nmalik/notebooks/venv/lib/python3.9/site-packages (from fastapi->gradio==3.50) (0.35.1)\n",
      "Requirement already satisfied: anyio in /home/nmalik/notebooks/venv/lib/python3.9/site-packages (from httpx->gradio==3.50) (4.2.0)\n",
      "Requirement already satisfied: httpcore==1.* in /home/nmalik/notebooks/venv/lib/python3.9/site-packages (from httpx->gradio==3.50) (1.0.2)\n",
      "Requirement already satisfied: sniffio in /home/nmalik/notebooks/venv/lib/python3.9/site-packages (from httpx->gradio==3.50) (1.3.0)\n",
      "Requirement already satisfied: attrs>=22.2.0 in /home/nmalik/notebooks/venv/lib/python3.9/site-packages (from jsonschema>=3.0->altair<6.0,>=4.2.0->gradio==3.50) (23.2.0)\n",
      "Requirement already satisfied: jsonschema-specifications>=2023.03.6 in /home/nmalik/notebooks/venv/lib/python3.9/site-packages (from jsonschema>=3.0->altair<6.0,>=4.2.0->gradio==3.50) (2023.12.1)\n",
      "Requirement already satisfied: referencing>=0.28.4 in /home/nmalik/notebooks/venv/lib/python3.9/site-packages (from jsonschema>=3.0->altair<6.0,>=4.2.0->gradio==3.50) (0.32.1)\n",
      "Requirement already satisfied: rpds-py>=0.7.1 in /home/nmalik/notebooks/venv/lib/python3.9/site-packages (from jsonschema>=3.0->altair<6.0,>=4.2.0->gradio==3.50) (0.16.2)\n",
      "Requirement already satisfied: six>=1.5 in /home/nmalik/notebooks/venv/lib/python3.9/site-packages (from python-dateutil>=2.7->matplotlib~=3.0->gradio==3.50) (1.16.0)\n",
      "Requirement already satisfied: exceptiongroup>=1.0.2 in /home/nmalik/notebooks/venv/lib/python3.9/site-packages (from anyio->httpx->gradio==3.50) (1.2.0)\n"
     ]
    }
   ],
   "source": [
    "!pip install -Uqq \"gradio==3.50\""
   ]
  },
  {
   "cell_type": "code",
   "execution_count": 5,
   "id": "4dcf9cd1-0769-4afd-b499-4155c0fb52d8",
   "metadata": {},
   "outputs": [],
   "source": [
    "#|export\n",
    "from fastai.vision.all import *\n",
    "import gradio as gr"
   ]
  },
  {
   "cell_type": "code",
   "execution_count": 6,
   "id": "596134d2-4b77-44c4-be43-61f68b589000",
   "metadata": {},
   "outputs": [],
   "source": [
    "#|export\n",
    "learn = load_learner('sandwich.pkl')"
   ]
  },
  {
   "cell_type": "code",
   "execution_count": 7,
   "id": "3c187665-98a9-43a1-aaf1-aaa08824cc37",
   "metadata": {},
   "outputs": [],
   "source": [
    "#|export\n",
    "categories = learn.dls.vocab\n",
    "\n",
    "def classify_image(img):\n",
    "    pred,idx,probs = learn.predict(img)\n",
    "    return dict(zip(categories, map(float,probs)))"
   ]
  },
  {
   "cell_type": "code",
   "execution_count": 8,
   "id": "1c12949a-a698-4674-9a6b-fe22089e9c0f",
   "metadata": {},
   "outputs": [
    {
     "data": {
      "text/html": [
       "\n",
       "<style>\n",
       "    /* Turns off some styling */\n",
       "    progress {\n",
       "        /* gets rid of default border in Firefox and Opera. */\n",
       "        border: none;\n",
       "        /* Needs to be in here for Safari polyfill so background images work as expected. */\n",
       "        background-size: auto;\n",
       "    }\n",
       "    progress:not([value]), progress:not([value])::-webkit-progress-bar {\n",
       "        background: repeating-linear-gradient(45deg, #7e7e7e, #7e7e7e 10px, #5c5c5c 10px, #5c5c5c 20px);\n",
       "    }\n",
       "    .progress-bar-interrupted, .progress-bar-interrupted::-webkit-progress-bar {\n",
       "        background: #F44336;\n",
       "    }\n",
       "</style>\n"
      ],
      "text/plain": [
       "<IPython.core.display.HTML object>"
      ]
     },
     "metadata": {},
     "output_type": "display_data"
    },
    {
     "data": {
      "text/html": [],
      "text/plain": [
       "<IPython.core.display.HTML object>"
      ]
     },
     "metadata": {},
     "output_type": "display_data"
    },
    {
     "data": {
      "text/plain": [
       "{'not sandwich': 1.623385870175298e-08, 'sandwich': 1.0}"
      ]
     },
     "execution_count": 8,
     "metadata": {},
     "output_type": "execute_result"
    }
   ],
   "source": [
    "classify_image('validation_data/pizza.jpg')"
   ]
  },
  {
   "cell_type": "code",
   "execution_count": 11,
   "id": "2f418bad-56a2-46ad-a2ee-a5d0966f1fb0",
   "metadata": {},
   "outputs": [
    {
     "name": "stdout",
     "output_type": "stream",
     "text": [
      "Running on local URL:  http://127.0.0.1:7861\n",
      "\n",
      "To create a public link, set `share=True` in `launch()`.\n"
     ]
    },
    {
     "data": {
      "text/plain": []
     },
     "execution_count": 11,
     "metadata": {},
     "output_type": "execute_result"
    }
   ],
   "source": [
    "#|export\n",
    "image = gr.inputs.Image(shape=(192,192))\n",
    "label = gr.outputs.Label()\n",
    "examples = [\"validation_data/sandwich.jpg\", \"validation_data/poptart.jpg\", \"validation_data/pug.jpg\"]\n",
    "\n",
    "intf = gr.Interface(fn=classify_image, inputs=image, outputs=label, examples=examples)\n",
    "intf.launch(inline=False)"
   ]
  },
  {
   "cell_type": "markdown",
   "id": "515c5d19-c118-4ecc-9777-2c59809a9ae9",
   "metadata": {},
   "source": [
    "# Export!"
   ]
  },
  {
   "cell_type": "code",
   "execution_count": 13,
   "id": "6e2176f3-ca4b-47c0-9692-3d30234ac8c1",
   "metadata": {},
   "outputs": [
    {
     "name": "stdout",
     "output_type": "stream",
     "text": [
      "Requirement already satisfied: nbdev in /home/nmalik/notebooks/venv/lib/python3.9/site-packages (2.3.13)\n",
      "Requirement already satisfied: ipywidgets<=8.0.4 in /home/nmalik/notebooks/venv/lib/python3.9/site-packages (from nbdev) (7.8.1)\n",
      "Requirement already satisfied: fastcore>=1.5.27 in /home/nmalik/notebooks/venv/lib/python3.9/site-packages (from nbdev) (1.5.29)\n",
      "Requirement already satisfied: execnb>=0.1.4 in /home/nmalik/notebooks/venv/lib/python3.9/site-packages (from nbdev) (0.1.5)\n",
      "Requirement already satisfied: astunparse in /home/nmalik/notebooks/venv/lib/python3.9/site-packages (from nbdev) (1.6.3)\n",
      "Requirement already satisfied: ghapi>=1.0.3 in /home/nmalik/notebooks/venv/lib/python3.9/site-packages (from nbdev) (1.0.4)\n",
      "Requirement already satisfied: watchdog in /home/nmalik/notebooks/venv/lib/python3.9/site-packages (from nbdev) (3.0.0)\n",
      "Requirement already satisfied: asttokens in /home/nmalik/notebooks/venv/lib/python3.9/site-packages (from nbdev) (2.4.1)\n",
      "Requirement already satisfied: PyYAML in /home/nmalik/notebooks/venv/lib/python3.9/site-packages (from nbdev) (6.0.1)\n",
      "Requirement already satisfied: ipython in /home/nmalik/notebooks/venv/lib/python3.9/site-packages (from execnb>=0.1.4->nbdev) (8.18.1)\n",
      "Requirement already satisfied: pip in /home/nmalik/notebooks/venv/lib/python3.9/site-packages (from fastcore>=1.5.27->nbdev) (23.3.2)\n",
      "Requirement already satisfied: packaging in /home/nmalik/notebooks/venv/lib/python3.9/site-packages (from fastcore>=1.5.27->nbdev) (23.2)\n",
      "Requirement already satisfied: comm>=0.1.3 in /home/nmalik/notebooks/venv/lib/python3.9/site-packages (from ipywidgets<=8.0.4->nbdev) (0.2.1)\n",
      "Requirement already satisfied: ipython-genutils~=0.2.0 in /home/nmalik/notebooks/venv/lib/python3.9/site-packages (from ipywidgets<=8.0.4->nbdev) (0.2.0)\n",
      "Requirement already satisfied: traitlets>=4.3.1 in /home/nmalik/notebooks/venv/lib/python3.9/site-packages (from ipywidgets<=8.0.4->nbdev) (5.14.1)\n",
      "Requirement already satisfied: widgetsnbextension~=3.6.6 in /home/nmalik/notebooks/venv/lib/python3.9/site-packages (from ipywidgets<=8.0.4->nbdev) (3.6.6)\n",
      "Requirement already satisfied: jupyterlab-widgets<3,>=1.0.0 in /home/nmalik/notebooks/venv/lib/python3.9/site-packages (from ipywidgets<=8.0.4->nbdev) (1.1.7)\n",
      "Requirement already satisfied: six>=1.12.0 in /home/nmalik/notebooks/venv/lib/python3.9/site-packages (from asttokens->nbdev) (1.16.0)\n",
      "Requirement already satisfied: wheel<1.0,>=0.23.0 in /home/nmalik/notebooks/venv/lib/python3.9/site-packages (from astunparse->nbdev) (0.42.0)\n",
      "Requirement already satisfied: decorator in /home/nmalik/notebooks/venv/lib/python3.9/site-packages (from ipython->execnb>=0.1.4->nbdev) (5.1.1)\n",
      "Requirement already satisfied: jedi>=0.16 in /home/nmalik/notebooks/venv/lib/python3.9/site-packages (from ipython->execnb>=0.1.4->nbdev) (0.19.1)\n",
      "Requirement already satisfied: matplotlib-inline in /home/nmalik/notebooks/venv/lib/python3.9/site-packages (from ipython->execnb>=0.1.4->nbdev) (0.1.6)\n",
      "Requirement already satisfied: prompt-toolkit<3.1.0,>=3.0.41 in /home/nmalik/notebooks/venv/lib/python3.9/site-packages (from ipython->execnb>=0.1.4->nbdev) (3.0.43)\n",
      "Requirement already satisfied: pygments>=2.4.0 in /home/nmalik/notebooks/venv/lib/python3.9/site-packages (from ipython->execnb>=0.1.4->nbdev) (2.17.2)\n",
      "Requirement already satisfied: stack-data in /home/nmalik/notebooks/venv/lib/python3.9/site-packages (from ipython->execnb>=0.1.4->nbdev) (0.6.3)\n",
      "Requirement already satisfied: typing-extensions in /home/nmalik/notebooks/venv/lib/python3.9/site-packages (from ipython->execnb>=0.1.4->nbdev) (4.9.0)\n",
      "Requirement already satisfied: exceptiongroup in /home/nmalik/notebooks/venv/lib/python3.9/site-packages (from ipython->execnb>=0.1.4->nbdev) (1.2.0)\n",
      "Requirement already satisfied: pexpect>4.3 in /home/nmalik/notebooks/venv/lib/python3.9/site-packages (from ipython->execnb>=0.1.4->nbdev) (4.9.0)\n",
      "Requirement already satisfied: notebook>=4.4.1 in /home/nmalik/notebooks/venv/lib/python3.9/site-packages (from widgetsnbextension~=3.6.6->ipywidgets<=8.0.4->nbdev) (7.0.6)\n",
      "Requirement already satisfied: parso<0.9.0,>=0.8.3 in /home/nmalik/notebooks/venv/lib/python3.9/site-packages (from jedi>=0.16->ipython->execnb>=0.1.4->nbdev) (0.8.3)\n",
      "Requirement already satisfied: jupyter-server<3,>=2.4.0 in /home/nmalik/notebooks/venv/lib/python3.9/site-packages (from notebook>=4.4.1->widgetsnbextension~=3.6.6->ipywidgets<=8.0.4->nbdev) (2.12.4)\n",
      "Requirement already satisfied: jupyterlab-server<3,>=2.22.1 in /home/nmalik/notebooks/venv/lib/python3.9/site-packages (from notebook>=4.4.1->widgetsnbextension~=3.6.6->ipywidgets<=8.0.4->nbdev) (2.25.2)\n",
      "Requirement already satisfied: jupyterlab<5,>=4.0.2 in /home/nmalik/notebooks/venv/lib/python3.9/site-packages (from notebook>=4.4.1->widgetsnbextension~=3.6.6->ipywidgets<=8.0.4->nbdev) (4.0.10)\n",
      "Requirement already satisfied: notebook-shim<0.3,>=0.2 in /home/nmalik/notebooks/venv/lib/python3.9/site-packages (from notebook>=4.4.1->widgetsnbextension~=3.6.6->ipywidgets<=8.0.4->nbdev) (0.2.3)\n",
      "Requirement already satisfied: tornado>=6.2.0 in /home/nmalik/notebooks/venv/lib/python3.9/site-packages (from notebook>=4.4.1->widgetsnbextension~=3.6.6->ipywidgets<=8.0.4->nbdev) (6.4)\n",
      "Requirement already satisfied: ptyprocess>=0.5 in /home/nmalik/notebooks/venv/lib/python3.9/site-packages (from pexpect>4.3->ipython->execnb>=0.1.4->nbdev) (0.7.0)\n",
      "Requirement already satisfied: wcwidth in /home/nmalik/notebooks/venv/lib/python3.9/site-packages (from prompt-toolkit<3.1.0,>=3.0.41->ipython->execnb>=0.1.4->nbdev) (0.2.13)\n",
      "Requirement already satisfied: executing>=1.2.0 in /home/nmalik/notebooks/venv/lib/python3.9/site-packages (from stack-data->ipython->execnb>=0.1.4->nbdev) (2.0.1)\n",
      "Requirement already satisfied: pure-eval in /home/nmalik/notebooks/venv/lib/python3.9/site-packages (from stack-data->ipython->execnb>=0.1.4->nbdev) (0.2.2)\n",
      "Requirement already satisfied: anyio>=3.1.0 in /home/nmalik/notebooks/venv/lib/python3.9/site-packages (from jupyter-server<3,>=2.4.0->notebook>=4.4.1->widgetsnbextension~=3.6.6->ipywidgets<=8.0.4->nbdev) (4.2.0)\n",
      "Requirement already satisfied: argon2-cffi in /home/nmalik/notebooks/venv/lib/python3.9/site-packages (from jupyter-server<3,>=2.4.0->notebook>=4.4.1->widgetsnbextension~=3.6.6->ipywidgets<=8.0.4->nbdev) (23.1.0)\n",
      "Requirement already satisfied: jinja2 in /home/nmalik/notebooks/venv/lib/python3.9/site-packages (from jupyter-server<3,>=2.4.0->notebook>=4.4.1->widgetsnbextension~=3.6.6->ipywidgets<=8.0.4->nbdev) (3.1.3)\n",
      "Requirement already satisfied: jupyter-client>=7.4.4 in /home/nmalik/notebooks/venv/lib/python3.9/site-packages (from jupyter-server<3,>=2.4.0->notebook>=4.4.1->widgetsnbextension~=3.6.6->ipywidgets<=8.0.4->nbdev) (8.6.0)\n",
      "Requirement already satisfied: jupyter-core!=5.0.*,>=4.12 in /home/nmalik/notebooks/venv/lib/python3.9/site-packages (from jupyter-server<3,>=2.4.0->notebook>=4.4.1->widgetsnbextension~=3.6.6->ipywidgets<=8.0.4->nbdev) (5.7.1)\n",
      "Requirement already satisfied: jupyter-events>=0.9.0 in /home/nmalik/notebooks/venv/lib/python3.9/site-packages (from jupyter-server<3,>=2.4.0->notebook>=4.4.1->widgetsnbextension~=3.6.6->ipywidgets<=8.0.4->nbdev) (0.9.0)\n",
      "Requirement already satisfied: jupyter-server-terminals in /home/nmalik/notebooks/venv/lib/python3.9/site-packages (from jupyter-server<3,>=2.4.0->notebook>=4.4.1->widgetsnbextension~=3.6.6->ipywidgets<=8.0.4->nbdev) (0.5.1)\n",
      "Requirement already satisfied: nbconvert>=6.4.4 in /home/nmalik/notebooks/venv/lib/python3.9/site-packages (from jupyter-server<3,>=2.4.0->notebook>=4.4.1->widgetsnbextension~=3.6.6->ipywidgets<=8.0.4->nbdev) (7.14.1)\n",
      "Requirement already satisfied: nbformat>=5.3.0 in /home/nmalik/notebooks/venv/lib/python3.9/site-packages (from jupyter-server<3,>=2.4.0->notebook>=4.4.1->widgetsnbextension~=3.6.6->ipywidgets<=8.0.4->nbdev) (5.9.2)\n",
      "Requirement already satisfied: overrides in /home/nmalik/notebooks/venv/lib/python3.9/site-packages (from jupyter-server<3,>=2.4.0->notebook>=4.4.1->widgetsnbextension~=3.6.6->ipywidgets<=8.0.4->nbdev) (7.4.0)\n",
      "Requirement already satisfied: prometheus-client in /home/nmalik/notebooks/venv/lib/python3.9/site-packages (from jupyter-server<3,>=2.4.0->notebook>=4.4.1->widgetsnbextension~=3.6.6->ipywidgets<=8.0.4->nbdev) (0.19.0)\n",
      "Requirement already satisfied: pyzmq>=24 in /home/nmalik/notebooks/venv/lib/python3.9/site-packages (from jupyter-server<3,>=2.4.0->notebook>=4.4.1->widgetsnbextension~=3.6.6->ipywidgets<=8.0.4->nbdev) (25.1.2)\n",
      "Requirement already satisfied: send2trash>=1.8.2 in /home/nmalik/notebooks/venv/lib/python3.9/site-packages (from jupyter-server<3,>=2.4.0->notebook>=4.4.1->widgetsnbextension~=3.6.6->ipywidgets<=8.0.4->nbdev) (1.8.2)\n",
      "Requirement already satisfied: terminado>=0.8.3 in /home/nmalik/notebooks/venv/lib/python3.9/site-packages (from jupyter-server<3,>=2.4.0->notebook>=4.4.1->widgetsnbextension~=3.6.6->ipywidgets<=8.0.4->nbdev) (0.18.0)\n",
      "Requirement already satisfied: websocket-client in /home/nmalik/notebooks/venv/lib/python3.9/site-packages (from jupyter-server<3,>=2.4.0->notebook>=4.4.1->widgetsnbextension~=3.6.6->ipywidgets<=8.0.4->nbdev) (1.7.0)\n",
      "Requirement already satisfied: async-lru>=1.0.0 in /home/nmalik/notebooks/venv/lib/python3.9/site-packages (from jupyterlab<5,>=4.0.2->notebook>=4.4.1->widgetsnbextension~=3.6.6->ipywidgets<=8.0.4->nbdev) (2.0.4)\n",
      "Requirement already satisfied: importlib-metadata>=4.8.3 in /home/nmalik/notebooks/venv/lib/python3.9/site-packages (from jupyterlab<5,>=4.0.2->notebook>=4.4.1->widgetsnbextension~=3.6.6->ipywidgets<=8.0.4->nbdev) (7.0.1)\n",
      "Requirement already satisfied: ipykernel in /home/nmalik/notebooks/venv/lib/python3.9/site-packages (from jupyterlab<5,>=4.0.2->notebook>=4.4.1->widgetsnbextension~=3.6.6->ipywidgets<=8.0.4->nbdev) (6.28.0)\n",
      "Requirement already satisfied: jupyter-lsp>=2.0.0 in /home/nmalik/notebooks/venv/lib/python3.9/site-packages (from jupyterlab<5,>=4.0.2->notebook>=4.4.1->widgetsnbextension~=3.6.6->ipywidgets<=8.0.4->nbdev) (2.2.1)\n",
      "Requirement already satisfied: tomli in /home/nmalik/notebooks/venv/lib/python3.9/site-packages (from jupyterlab<5,>=4.0.2->notebook>=4.4.1->widgetsnbextension~=3.6.6->ipywidgets<=8.0.4->nbdev) (2.0.1)\n",
      "Requirement already satisfied: babel>=2.10 in /home/nmalik/notebooks/venv/lib/python3.9/site-packages (from jupyterlab-server<3,>=2.22.1->notebook>=4.4.1->widgetsnbextension~=3.6.6->ipywidgets<=8.0.4->nbdev) (2.14.0)\n",
      "Requirement already satisfied: json5>=0.9.0 in /home/nmalik/notebooks/venv/lib/python3.9/site-packages (from jupyterlab-server<3,>=2.22.1->notebook>=4.4.1->widgetsnbextension~=3.6.6->ipywidgets<=8.0.4->nbdev) (0.9.14)\n",
      "Requirement already satisfied: jsonschema>=4.18.0 in /home/nmalik/notebooks/venv/lib/python3.9/site-packages (from jupyterlab-server<3,>=2.22.1->notebook>=4.4.1->widgetsnbextension~=3.6.6->ipywidgets<=8.0.4->nbdev) (4.20.0)\n",
      "Requirement already satisfied: requests>=2.31 in /home/nmalik/notebooks/venv/lib/python3.9/site-packages (from jupyterlab-server<3,>=2.22.1->notebook>=4.4.1->widgetsnbextension~=3.6.6->ipywidgets<=8.0.4->nbdev) (2.31.0)\n",
      "Requirement already satisfied: idna>=2.8 in /home/nmalik/notebooks/venv/lib/python3.9/site-packages (from anyio>=3.1.0->jupyter-server<3,>=2.4.0->notebook>=4.4.1->widgetsnbextension~=3.6.6->ipywidgets<=8.0.4->nbdev) (3.6)\n",
      "Requirement already satisfied: sniffio>=1.1 in /home/nmalik/notebooks/venv/lib/python3.9/site-packages (from anyio>=3.1.0->jupyter-server<3,>=2.4.0->notebook>=4.4.1->widgetsnbextension~=3.6.6->ipywidgets<=8.0.4->nbdev) (1.3.0)\n",
      "Requirement already satisfied: zipp>=0.5 in /home/nmalik/notebooks/venv/lib/python3.9/site-packages (from importlib-metadata>=4.8.3->jupyterlab<5,>=4.0.2->notebook>=4.4.1->widgetsnbextension~=3.6.6->ipywidgets<=8.0.4->nbdev) (3.17.0)\n",
      "Requirement already satisfied: MarkupSafe>=2.0 in /home/nmalik/notebooks/venv/lib/python3.9/site-packages (from jinja2->jupyter-server<3,>=2.4.0->notebook>=4.4.1->widgetsnbextension~=3.6.6->ipywidgets<=8.0.4->nbdev) (2.1.3)\n",
      "Requirement already satisfied: attrs>=22.2.0 in /home/nmalik/notebooks/venv/lib/python3.9/site-packages (from jsonschema>=4.18.0->jupyterlab-server<3,>=2.22.1->notebook>=4.4.1->widgetsnbextension~=3.6.6->ipywidgets<=8.0.4->nbdev) (23.2.0)\n",
      "Requirement already satisfied: jsonschema-specifications>=2023.03.6 in /home/nmalik/notebooks/venv/lib/python3.9/site-packages (from jsonschema>=4.18.0->jupyterlab-server<3,>=2.22.1->notebook>=4.4.1->widgetsnbextension~=3.6.6->ipywidgets<=8.0.4->nbdev) (2023.12.1)\n",
      "Requirement already satisfied: referencing>=0.28.4 in /home/nmalik/notebooks/venv/lib/python3.9/site-packages (from jsonschema>=4.18.0->jupyterlab-server<3,>=2.22.1->notebook>=4.4.1->widgetsnbextension~=3.6.6->ipywidgets<=8.0.4->nbdev) (0.32.1)\n",
      "Requirement already satisfied: rpds-py>=0.7.1 in /home/nmalik/notebooks/venv/lib/python3.9/site-packages (from jsonschema>=4.18.0->jupyterlab-server<3,>=2.22.1->notebook>=4.4.1->widgetsnbextension~=3.6.6->ipywidgets<=8.0.4->nbdev) (0.16.2)\n",
      "Requirement already satisfied: python-dateutil>=2.8.2 in /home/nmalik/notebooks/venv/lib/python3.9/site-packages (from jupyter-client>=7.4.4->jupyter-server<3,>=2.4.0->notebook>=4.4.1->widgetsnbextension~=3.6.6->ipywidgets<=8.0.4->nbdev) (2.8.2)\n",
      "Requirement already satisfied: platformdirs>=2.5 in /home/nmalik/notebooks/venv/lib/python3.9/site-packages (from jupyter-core!=5.0.*,>=4.12->jupyter-server<3,>=2.4.0->notebook>=4.4.1->widgetsnbextension~=3.6.6->ipywidgets<=8.0.4->nbdev) (4.1.0)\n",
      "Requirement already satisfied: python-json-logger>=2.0.4 in /home/nmalik/notebooks/venv/lib/python3.9/site-packages (from jupyter-events>=0.9.0->jupyter-server<3,>=2.4.0->notebook>=4.4.1->widgetsnbextension~=3.6.6->ipywidgets<=8.0.4->nbdev) (2.0.7)\n",
      "Requirement already satisfied: rfc3339-validator in /home/nmalik/notebooks/venv/lib/python3.9/site-packages (from jupyter-events>=0.9.0->jupyter-server<3,>=2.4.0->notebook>=4.4.1->widgetsnbextension~=3.6.6->ipywidgets<=8.0.4->nbdev) (0.1.4)\n",
      "Requirement already satisfied: rfc3986-validator>=0.1.1 in /home/nmalik/notebooks/venv/lib/python3.9/site-packages (from jupyter-events>=0.9.0->jupyter-server<3,>=2.4.0->notebook>=4.4.1->widgetsnbextension~=3.6.6->ipywidgets<=8.0.4->nbdev) (0.1.1)\n",
      "Requirement already satisfied: beautifulsoup4 in /home/nmalik/notebooks/venv/lib/python3.9/site-packages (from nbconvert>=6.4.4->jupyter-server<3,>=2.4.0->notebook>=4.4.1->widgetsnbextension~=3.6.6->ipywidgets<=8.0.4->nbdev) (4.12.2)\n",
      "Requirement already satisfied: bleach!=5.0.0 in /home/nmalik/notebooks/venv/lib/python3.9/site-packages (from nbconvert>=6.4.4->jupyter-server<3,>=2.4.0->notebook>=4.4.1->widgetsnbextension~=3.6.6->ipywidgets<=8.0.4->nbdev) (6.1.0)\n",
      "Requirement already satisfied: defusedxml in /home/nmalik/notebooks/venv/lib/python3.9/site-packages (from nbconvert>=6.4.4->jupyter-server<3,>=2.4.0->notebook>=4.4.1->widgetsnbextension~=3.6.6->ipywidgets<=8.0.4->nbdev) (0.7.1)\n",
      "Requirement already satisfied: jupyterlab-pygments in /home/nmalik/notebooks/venv/lib/python3.9/site-packages (from nbconvert>=6.4.4->jupyter-server<3,>=2.4.0->notebook>=4.4.1->widgetsnbextension~=3.6.6->ipywidgets<=8.0.4->nbdev) (0.3.0)\n",
      "Requirement already satisfied: mistune<4,>=2.0.3 in /home/nmalik/notebooks/venv/lib/python3.9/site-packages (from nbconvert>=6.4.4->jupyter-server<3,>=2.4.0->notebook>=4.4.1->widgetsnbextension~=3.6.6->ipywidgets<=8.0.4->nbdev) (3.0.2)\n",
      "Requirement already satisfied: nbclient>=0.5.0 in /home/nmalik/notebooks/venv/lib/python3.9/site-packages (from nbconvert>=6.4.4->jupyter-server<3,>=2.4.0->notebook>=4.4.1->widgetsnbextension~=3.6.6->ipywidgets<=8.0.4->nbdev) (0.7.4)\n",
      "Requirement already satisfied: pandocfilters>=1.4.1 in /home/nmalik/notebooks/venv/lib/python3.9/site-packages (from nbconvert>=6.4.4->jupyter-server<3,>=2.4.0->notebook>=4.4.1->widgetsnbextension~=3.6.6->ipywidgets<=8.0.4->nbdev) (1.5.0)\n",
      "Requirement already satisfied: tinycss2 in /home/nmalik/notebooks/venv/lib/python3.9/site-packages (from nbconvert>=6.4.4->jupyter-server<3,>=2.4.0->notebook>=4.4.1->widgetsnbextension~=3.6.6->ipywidgets<=8.0.4->nbdev) (1.2.1)\n",
      "Requirement already satisfied: fastjsonschema in /home/nmalik/notebooks/venv/lib/python3.9/site-packages (from nbformat>=5.3.0->jupyter-server<3,>=2.4.0->notebook>=4.4.1->widgetsnbextension~=3.6.6->ipywidgets<=8.0.4->nbdev) (2.19.1)\n",
      "Requirement already satisfied: charset-normalizer<4,>=2 in /home/nmalik/notebooks/venv/lib/python3.9/site-packages (from requests>=2.31->jupyterlab-server<3,>=2.22.1->notebook>=4.4.1->widgetsnbextension~=3.6.6->ipywidgets<=8.0.4->nbdev) (3.3.2)\n",
      "Requirement already satisfied: urllib3<3,>=1.21.1 in /home/nmalik/notebooks/venv/lib/python3.9/site-packages (from requests>=2.31->jupyterlab-server<3,>=2.22.1->notebook>=4.4.1->widgetsnbextension~=3.6.6->ipywidgets<=8.0.4->nbdev) (2.1.0)\n",
      "Requirement already satisfied: certifi>=2017.4.17 in /home/nmalik/notebooks/venv/lib/python3.9/site-packages (from requests>=2.31->jupyterlab-server<3,>=2.22.1->notebook>=4.4.1->widgetsnbextension~=3.6.6->ipywidgets<=8.0.4->nbdev) (2023.11.17)\n",
      "Requirement already satisfied: argon2-cffi-bindings in /home/nmalik/notebooks/venv/lib/python3.9/site-packages (from argon2-cffi->jupyter-server<3,>=2.4.0->notebook>=4.4.1->widgetsnbextension~=3.6.6->ipywidgets<=8.0.4->nbdev) (21.2.0)\n",
      "Requirement already satisfied: debugpy>=1.6.5 in /home/nmalik/notebooks/venv/lib/python3.9/site-packages (from ipykernel->jupyterlab<5,>=4.0.2->notebook>=4.4.1->widgetsnbextension~=3.6.6->ipywidgets<=8.0.4->nbdev) (1.8.0)\n",
      "Requirement already satisfied: nest-asyncio in /home/nmalik/notebooks/venv/lib/python3.9/site-packages (from ipykernel->jupyterlab<5,>=4.0.2->notebook>=4.4.1->widgetsnbextension~=3.6.6->ipywidgets<=8.0.4->nbdev) (1.5.8)\n",
      "Requirement already satisfied: psutil in /home/nmalik/notebooks/venv/lib/python3.9/site-packages (from ipykernel->jupyterlab<5,>=4.0.2->notebook>=4.4.1->widgetsnbextension~=3.6.6->ipywidgets<=8.0.4->nbdev) (5.9.7)\n",
      "Requirement already satisfied: webencodings in /home/nmalik/notebooks/venv/lib/python3.9/site-packages (from bleach!=5.0.0->nbconvert>=6.4.4->jupyter-server<3,>=2.4.0->notebook>=4.4.1->widgetsnbextension~=3.6.6->ipywidgets<=8.0.4->nbdev) (0.5.1)\n",
      "Requirement already satisfied: fqdn in /home/nmalik/notebooks/venv/lib/python3.9/site-packages (from jsonschema[format-nongpl]>=4.18.0->jupyter-events>=0.9.0->jupyter-server<3,>=2.4.0->notebook>=4.4.1->widgetsnbextension~=3.6.6->ipywidgets<=8.0.4->nbdev) (1.5.1)\n",
      "Requirement already satisfied: isoduration in /home/nmalik/notebooks/venv/lib/python3.9/site-packages (from jsonschema[format-nongpl]>=4.18.0->jupyter-events>=0.9.0->jupyter-server<3,>=2.4.0->notebook>=4.4.1->widgetsnbextension~=3.6.6->ipywidgets<=8.0.4->nbdev) (20.11.0)\n",
      "Requirement already satisfied: jsonpointer>1.13 in /home/nmalik/notebooks/venv/lib/python3.9/site-packages (from jsonschema[format-nongpl]>=4.18.0->jupyter-events>=0.9.0->jupyter-server<3,>=2.4.0->notebook>=4.4.1->widgetsnbextension~=3.6.6->ipywidgets<=8.0.4->nbdev) (2.4)\n",
      "Requirement already satisfied: uri-template in /home/nmalik/notebooks/venv/lib/python3.9/site-packages (from jsonschema[format-nongpl]>=4.18.0->jupyter-events>=0.9.0->jupyter-server<3,>=2.4.0->notebook>=4.4.1->widgetsnbextension~=3.6.6->ipywidgets<=8.0.4->nbdev) (1.3.0)\n",
      "Requirement already satisfied: webcolors>=1.11 in /home/nmalik/notebooks/venv/lib/python3.9/site-packages (from jsonschema[format-nongpl]>=4.18.0->jupyter-events>=0.9.0->jupyter-server<3,>=2.4.0->notebook>=4.4.1->widgetsnbextension~=3.6.6->ipywidgets<=8.0.4->nbdev) (1.13)\n",
      "Requirement already satisfied: cffi>=1.0.1 in /home/nmalik/notebooks/venv/lib/python3.9/site-packages (from argon2-cffi-bindings->argon2-cffi->jupyter-server<3,>=2.4.0->notebook>=4.4.1->widgetsnbextension~=3.6.6->ipywidgets<=8.0.4->nbdev) (1.16.0)\n",
      "Requirement already satisfied: soupsieve>1.2 in /home/nmalik/notebooks/venv/lib/python3.9/site-packages (from beautifulsoup4->nbconvert>=6.4.4->jupyter-server<3,>=2.4.0->notebook>=4.4.1->widgetsnbextension~=3.6.6->ipywidgets<=8.0.4->nbdev) (2.5)\n",
      "Requirement already satisfied: pycparser in /home/nmalik/notebooks/venv/lib/python3.9/site-packages (from cffi>=1.0.1->argon2-cffi-bindings->argon2-cffi->jupyter-server<3,>=2.4.0->notebook>=4.4.1->widgetsnbextension~=3.6.6->ipywidgets<=8.0.4->nbdev) (2.21)\n",
      "Requirement already satisfied: arrow>=0.15.0 in /home/nmalik/notebooks/venv/lib/python3.9/site-packages (from isoduration->jsonschema[format-nongpl]>=4.18.0->jupyter-events>=0.9.0->jupyter-server<3,>=2.4.0->notebook>=4.4.1->widgetsnbextension~=3.6.6->ipywidgets<=8.0.4->nbdev) (1.3.0)\n",
      "Requirement already satisfied: types-python-dateutil>=2.8.10 in /home/nmalik/notebooks/venv/lib/python3.9/site-packages (from arrow>=0.15.0->isoduration->jsonschema[format-nongpl]>=4.18.0->jupyter-events>=0.9.0->jupyter-server<3,>=2.4.0->notebook>=4.4.1->widgetsnbextension~=3.6.6->ipywidgets<=8.0.4->nbdev) (2.8.19.20240106)\n"
     ]
    }
   ],
   "source": [
    "!pip install nbdev"
   ]
  },
  {
   "cell_type": "code",
   "execution_count": 17,
   "id": "d691c4a0-f63b-4721-87e0-a6e217b17b0a",
   "metadata": {},
   "outputs": [],
   "source": [
    "import nbdev\n",
    "\n",
    "nbdev.export.nb_export('sandwich-serve.ipynb', 'sandwich')"
   ]
  },
  {
   "cell_type": "code",
   "execution_count": null,
   "id": "e3dd63ed-a4b0-4d4f-82e2-c111d8a77891",
   "metadata": {},
   "outputs": [],
   "source": []
  }
 ],
 "metadata": {
  "kernelspec": {
   "display_name": "Python 3 (ipykernel)",
   "language": "python",
   "name": "python3"
  },
  "language_info": {
   "codemirror_mode": {
    "name": "ipython",
    "version": 3
   },
   "file_extension": ".py",
   "mimetype": "text/x-python",
   "name": "python",
   "nbconvert_exporter": "python",
   "pygments_lexer": "ipython3",
   "version": "3.9.18"
  }
 },
 "nbformat": 4,
 "nbformat_minor": 5
}
